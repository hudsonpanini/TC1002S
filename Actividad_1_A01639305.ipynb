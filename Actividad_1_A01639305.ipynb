{
  "nbformat": 4,
  "nbformat_minor": 0,
  "metadata": {
    "colab": {
      "provenance": [],
      "mount_file_id": "18YrLC7QqMBwYtcPnAdFNvd_ria3nyPec",
      "authorship_tag": "ABX9TyNteNUHEAFrZCje/ntOTJpO"
    },
    "kernelspec": {
      "name": "python3",
      "display_name": "Python 3"
    },
    "language_info": {
      "name": "python"
    }
  },
  "cells": [
    {
      "cell_type": "code",
      "execution_count": null,
      "metadata": {
        "id": "y6HiuIgR4O80"
      },
      "outputs": [],
      "source": [
        "#pwd     print working directory\n",
        "#uname -r\n",
        "#lsb_release -a\n",
        "#lscpu\n",
        "#ls -la\n",
        "#cd (directory name)/\n",
        "#mkdir (name)\n",
        "#apt install nano\n",
        "#touch hola.py\n",
        "#nano hola.py\n",
        "#python --version\n",
        "#rm hola.py               remove\n",
        "\n",
        "# git config --global user.email \"abcd\"\n",
        "# git config --global user.name \"aaaa\"\n",
        "# git clone https://token@github.com/username/repository.git\n",
        "\n",
        "# git add hola.py\n",
        "# git commit \"un script de python\"\n",
        "# git push"
      ]
    },
    {
      "cell_type": "code",
      "source": [
        "import numpy as np"
      ],
      "metadata": {
        "id": "R3kN_SJ2F0ob"
      },
      "execution_count": null,
      "outputs": []
    },
    {
      "cell_type": "markdown",
      "source": [
        "1. Crea un arreglo de 10 cincos."
      ],
      "metadata": {
        "id": "0ifT3RI8Hm5w"
      }
    },
    {
      "cell_type": "code",
      "source": [
        "#cincos = np.ones(10)*5\n",
        "cincos = np.full(10,5)\n",
        "print(cincos)"
      ],
      "metadata": {
        "colab": {
          "base_uri": "https://localhost:8080/"
        },
        "id": "9Yjv1TkoGEQd",
        "outputId": "3940f3ca-432d-4da8-e2d2-1ef01bcb30bc"
      },
      "execution_count": null,
      "outputs": [
        {
          "output_type": "stream",
          "name": "stdout",
          "text": [
            "[5 5 5 5 5 5 5 5 5 5]\n"
          ]
        }
      ]
    },
    {
      "cell_type": "markdown",
      "source": [
        "2. Crea un arreglo de enteros pares desde 10, inclusive, hasta 50, inclusive."
      ],
      "metadata": {
        "id": "pcgjp7kNHphW"
      }
    },
    {
      "cell_type": "code",
      "source": [
        "np.arange(10,51,2)"
      ],
      "metadata": {
        "colab": {
          "base_uri": "https://localhost:8080/"
        },
        "id": "s-bZ2NUgHuWk",
        "outputId": "d217a4f2-0ebf-4f9b-a81b-dd1350d07536"
      },
      "execution_count": null,
      "outputs": [
        {
          "output_type": "execute_result",
          "data": {
            "text/plain": [
              "array([10, 12, 14, 16, 18, 20, 22, 24, 26, 28, 30, 32, 34, 36, 38, 40, 42,\n",
              "       44, 46, 48, 50])"
            ]
          },
          "metadata": {},
          "execution_count": 10
        }
      ]
    },
    {
      "cell_type": "markdown",
      "source": [
        "3. Crea una matriz cuadrada de 4 por 4 de números enteros aleatorios."
      ],
      "metadata": {
        "id": "LJmgDZLpIb4P"
      }
    },
    {
      "cell_type": "code",
      "source": [
        "np.random.randint(0,101,size=(4,4))"
      ],
      "metadata": {
        "colab": {
          "base_uri": "https://localhost:8080/"
        },
        "id": "teJzmHOdIf9g",
        "outputId": "df326271-81da-4967-9363-22799494f163"
      },
      "execution_count": null,
      "outputs": [
        {
          "output_type": "execute_result",
          "data": {
            "text/plain": [
              "array([[ 29,  44,  97, 100],\n",
              "       [ 79,  20,   2,  48],\n",
              "       [ 24,  93,   2,  54],\n",
              "       [ 46,  70,   7,  70]])"
            ]
          },
          "metadata": {},
          "execution_count": 14
        }
      ]
    },
    {
      "cell_type": "markdown",
      "source": [
        "4. Genera un arreglo de 10 números aleatorios entre 0 y 1 y calcula la suma de todos sus elementos."
      ],
      "metadata": {
        "id": "Pef7EK1eKRLV"
      }
    },
    {
      "cell_type": "code",
      "source": [
        "diez_rand = np.random.rand(10)\n",
        "print(diez_rand)\n",
        "print(diez_rand.sum())"
      ],
      "metadata": {
        "colab": {
          "base_uri": "https://localhost:8080/"
        },
        "id": "tHOR6kYbKVVs",
        "outputId": "b14c3538-329d-41ed-f8c2-3fd9b7d2875c"
      },
      "execution_count": null,
      "outputs": [
        {
          "output_type": "stream",
          "name": "stdout",
          "text": [
            "[0.73253238 0.2947028  0.55960928 0.75582183 0.44706548 0.08096409\n",
            " 0.70347481 0.90365699 0.17026206 0.4974903 ]\n",
            "5.145580027555182\n"
          ]
        }
      ]
    },
    {
      "cell_type": "markdown",
      "source": [
        "5. Genera un arreglo de 10 números aleatorios entre 0 y 1 y calcula su media.\n"
      ],
      "metadata": {
        "id": "tFvVwzH4KxeS"
      }
    },
    {
      "cell_type": "code",
      "source": [
        "otros_diez = np.random.rand(10)\n",
        "print(otros_diez)\n",
        "print(otros_diez.mean())"
      ],
      "metadata": {
        "colab": {
          "base_uri": "https://localhost:8080/"
        },
        "id": "kSNfDiJgK2pY",
        "outputId": "dff9c723-024b-4b80-8f61-def1dd8c7e1d"
      },
      "execution_count": null,
      "outputs": [
        {
          "output_type": "stream",
          "name": "stdout",
          "text": [
            "[0.96141778 0.99333024 0.73550065 0.02002866 0.47907931 0.36519704\n",
            " 0.6133761  0.88171612 0.40166122 0.8959063 ]\n",
            "0.6347213430307755\n"
          ]
        }
      ]
    }
  ]
}