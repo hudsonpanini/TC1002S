{
  "nbformat": 4,
  "nbformat_minor": 0,
  "metadata": {
    "colab": {
      "provenance": [],
      "include_colab_link": true
    },
    "kernelspec": {
      "name": "python3",
      "display_name": "Python 3"
    },
    "language_info": {
      "name": "python"
    }
  },
  "cells": [
    {
      "cell_type": "markdown",
      "metadata": {
        "id": "view-in-github",
        "colab_type": "text"
      },
      "source": [
        "<a href=\"https://colab.research.google.com/github/hudsonpanini/TC1002S/blob/main/Actividad_3_A01639305.ipynb\" target=\"_parent\"><img src=\"https://colab.research.google.com/assets/colab-badge.svg\" alt=\"Open In Colab\"/></a>"
      ]
    },
    {
      "cell_type": "markdown",
      "source": [
        "#Semana Tec: El arte de la Analítica"
      ],
      "metadata": {
        "id": "24iYF4ugKWM9"
      }
    },
    {
      "cell_type": "markdown",
      "source": [
        "# Demostración de análisis de datos con Pandas\n",
        "\n",
        "\n",
        "\n",
        "\n"
      ],
      "metadata": {
        "id": "bDGRN7kSC6HJ"
      }
    },
    {
      "cell_type": "markdown",
      "source": [
        "#Carga de datos e impresión de contenido"
      ],
      "metadata": {
        "id": "4HS0aBCNtDXU"
      }
    },
    {
      "cell_type": "code",
      "execution_count": 12,
      "metadata": {
        "id": "ARNtGpvtCkuD"
      },
      "outputs": [],
      "source": [
        "#importamos Numpy y Pandas\n",
        "import numpy as np\n",
        "import pandas as pd"
      ]
    },
    {
      "cell_type": "code",
      "source": [
        "#se necesita proporcionar el nombre del archivo y seleccionar una hoja del archivo\n",
        "df = pd.read_excel(\"/content/Sales Data Presentation - Dashboards.xlsx\",\n",
        "                    sheet_name=\"Raw Data\")\n",
        "print(df.head())"
      ],
      "metadata": {
        "colab": {
          "base_uri": "https://localhost:8080/"
        },
        "id": "1lrqKZvtcVT4",
        "outputId": "a6d38d29-b802-4a91-86b4-f3354ce24e92"
      },
      "execution_count": 13,
      "outputs": [
        {
          "output_type": "stream",
          "name": "stdout",
          "text": [
            "   OrderNum     EmpID     Employee Name      Employee Job Title  \\\n",
            "0   1102935  900019019  Alexandra Kundt  Senior Sales Associate   \n",
            "1   1102976  900019019  Alexandra Kundt  Senior Sales Associate   \n",
            "2   1102988  900019019  Alexandra Kundt  Senior Sales Associate   \n",
            "3   1103012  900019019  Alexandra Kundt  Senior Sales Associate   \n",
            "4   1103031  900019019  Alexandra Kundt  Senior Sales Associate   \n",
            "\n",
            "     Sales Region  OrderDate  OrderType CustomerType  CustID  \\\n",
            "0  S Central East 2019-02-09     Retail   Individual  1574.0   \n",
            "1  S Central East 2019-02-15     Retail   Individual  1809.0   \n",
            "2  S Central East 2019-02-16     Retail   Individual  2253.0   \n",
            "3  S Central East 2019-02-19  Wholesale     Business  4083.0   \n",
            "4  S Central East 2019-02-22     Retail   Individual  2678.0   \n",
            "\n",
            "             CustName    CustState ProdCategory ProdNumber  \\\n",
            "0      Skipton Fealty     Arkansas    Olive Oil      OO206   \n",
            "1     Lanni D'Ambrogi     Missouri  Gift Basket      GB301   \n",
            "2             Far Pow  Mississippi    Olive Oil      OO302   \n",
            "3           Swift Inc        Texas    Olive Oil      OO125   \n",
            "4  Carmine Priestnall        Texas    Olive Oil      OO128   \n",
            "\n",
            "                               ProdName  Quantity  Price  Order Total  \\\n",
            "0      Chili Extra Virgin Olive Oil 2pk         3   45.0        135.0   \n",
            "1  Scented Olive Oil Candle Gift Basket         1   19.5         19.5   \n",
            "2          Chili Extra Virgin Olive Oil         4   26.0        104.0   \n",
            "3    Garlic Extra Virgin Olive Oil 12pk         4  234.0        936.0   \n",
            "4     Chili Extra Virgin Olive Oil 12pk         3  234.0        702.0   \n",
            "\n",
            "                    Column1  \n",
            "0   Skipton Fealty Arkansas  \n",
            "1  Lanni D'Ambrogi Missouri  \n",
            "2       Far Pow Mississippi  \n",
            "3           Swift Inc Texas  \n",
            "4  Carmine Priestnall Texas  \n"
          ]
        }
      ]
    },
    {
      "cell_type": "code",
      "source": [
        "#el método info permite identificar el tipo de dato de cada columna y, si es necesario,\n",
        "#hacer las modificaciones pertinentes\n",
        "df.info()"
      ],
      "metadata": {
        "id": "qup9EHd9S5o9",
        "colab": {
          "base_uri": "https://localhost:8080/"
        },
        "outputId": "851359a4-e60f-4f77-aebf-bb75a6b08425"
      },
      "execution_count": 14,
      "outputs": [
        {
          "output_type": "stream",
          "name": "stdout",
          "text": [
            "<class 'pandas.core.frame.DataFrame'>\n",
            "RangeIndex: 5130 entries, 0 to 5129\n",
            "Data columns (total 18 columns):\n",
            " #   Column              Non-Null Count  Dtype         \n",
            "---  ------              --------------  -----         \n",
            " 0   OrderNum            5130 non-null   int64         \n",
            " 1   EmpID               5130 non-null   int64         \n",
            " 2   Employee Name       5130 non-null   object        \n",
            " 3   Employee Job Title  5130 non-null   object        \n",
            " 4   Sales Region        5130 non-null   object        \n",
            " 5   OrderDate           5130 non-null   datetime64[ns]\n",
            " 6   OrderType           5130 non-null   object        \n",
            " 7   CustomerType        5130 non-null   object        \n",
            " 8   CustID              5124 non-null   float64       \n",
            " 9   CustName            5130 non-null   object        \n",
            " 10  CustState           5130 non-null   object        \n",
            " 11  ProdCategory        5130 non-null   object        \n",
            " 12  ProdNumber          5130 non-null   object        \n",
            " 13  ProdName            5130 non-null   object        \n",
            " 14  Quantity            5130 non-null   int64         \n",
            " 15  Price               5130 non-null   float64       \n",
            " 16  Order Total         5130 non-null   float64       \n",
            " 17  Column1             5130 non-null   object        \n",
            "dtypes: datetime64[ns](1), float64(3), int64(3), object(11)\n",
            "memory usage: 721.5+ KB\n"
          ]
        }
      ]
    },
    {
      "cell_type": "code",
      "source": [
        "#estadística de cada columna\n",
        "df.describe()"
      ],
      "metadata": {
        "colab": {
          "base_uri": "https://localhost:8080/",
          "height": 300
        },
        "id": "PDqVdjdDtVX8",
        "outputId": "7944f8c3-6f7c-42f9-88b7-e4737612bb3c"
      },
      "execution_count": 15,
      "outputs": [
        {
          "output_type": "execute_result",
          "data": {
            "text/plain": [
              "           OrderNum        EmpID                       OrderDate       CustID  \\\n",
              "count  5.130000e+03  5.130000e+03                           5130  5124.000000   \n",
              "mean   1.105436e+06  9.000149e+08  2020-02-03 09:49:28.421052672  2613.776347   \n",
              "min    1.102871e+06  9.000104e+08            2019-02-01 00:00:00  1045.000000   \n",
              "25%    1.104153e+06  9.000123e+08            2019-08-01 00:00:00  1866.000000   \n",
              "50%    1.105436e+06  9.000150e+08            2020-02-06 00:00:00  2619.500000   \n",
              "75%    1.106718e+06  9.000171e+08            2020-08-03 00:00:00  3360.250000   \n",
              "max    1.108000e+06  9.000200e+08            2021-01-31 00:00:00  4126.000000   \n",
              "std    1.481048e+03  2.925929e+03                            NaN   886.843520   \n",
              "\n",
              "          Quantity        Price  Order Total  \n",
              "count  5130.000000  5130.000000  5130.000000  \n",
              "mean      3.220858    83.819146   333.080273  \n",
              "min       1.000000     5.990000     5.990000  \n",
              "25%       2.000000    14.500000    34.000000  \n",
              "50%       3.000000    45.000000   104.000000  \n",
              "75%       4.000000   123.000000   342.000000  \n",
              "max      14.000000   234.000000  3276.000000  \n",
              "std       2.513631    84.837607   592.435009  "
            ],
            "text/html": [
              "\n",
              "  <div id=\"df-390c7970-7117-47b5-b83b-7cc1329ce026\" class=\"colab-df-container\">\n",
              "    <div>\n",
              "<style scoped>\n",
              "    .dataframe tbody tr th:only-of-type {\n",
              "        vertical-align: middle;\n",
              "    }\n",
              "\n",
              "    .dataframe tbody tr th {\n",
              "        vertical-align: top;\n",
              "    }\n",
              "\n",
              "    .dataframe thead th {\n",
              "        text-align: right;\n",
              "    }\n",
              "</style>\n",
              "<table border=\"1\" class=\"dataframe\">\n",
              "  <thead>\n",
              "    <tr style=\"text-align: right;\">\n",
              "      <th></th>\n",
              "      <th>OrderNum</th>\n",
              "      <th>EmpID</th>\n",
              "      <th>OrderDate</th>\n",
              "      <th>CustID</th>\n",
              "      <th>Quantity</th>\n",
              "      <th>Price</th>\n",
              "      <th>Order Total</th>\n",
              "    </tr>\n",
              "  </thead>\n",
              "  <tbody>\n",
              "    <tr>\n",
              "      <th>count</th>\n",
              "      <td>5.130000e+03</td>\n",
              "      <td>5.130000e+03</td>\n",
              "      <td>5130</td>\n",
              "      <td>5124.000000</td>\n",
              "      <td>5130.000000</td>\n",
              "      <td>5130.000000</td>\n",
              "      <td>5130.000000</td>\n",
              "    </tr>\n",
              "    <tr>\n",
              "      <th>mean</th>\n",
              "      <td>1.105436e+06</td>\n",
              "      <td>9.000149e+08</td>\n",
              "      <td>2020-02-03 09:49:28.421052672</td>\n",
              "      <td>2613.776347</td>\n",
              "      <td>3.220858</td>\n",
              "      <td>83.819146</td>\n",
              "      <td>333.080273</td>\n",
              "    </tr>\n",
              "    <tr>\n",
              "      <th>min</th>\n",
              "      <td>1.102871e+06</td>\n",
              "      <td>9.000104e+08</td>\n",
              "      <td>2019-02-01 00:00:00</td>\n",
              "      <td>1045.000000</td>\n",
              "      <td>1.000000</td>\n",
              "      <td>5.990000</td>\n",
              "      <td>5.990000</td>\n",
              "    </tr>\n",
              "    <tr>\n",
              "      <th>25%</th>\n",
              "      <td>1.104153e+06</td>\n",
              "      <td>9.000123e+08</td>\n",
              "      <td>2019-08-01 00:00:00</td>\n",
              "      <td>1866.000000</td>\n",
              "      <td>2.000000</td>\n",
              "      <td>14.500000</td>\n",
              "      <td>34.000000</td>\n",
              "    </tr>\n",
              "    <tr>\n",
              "      <th>50%</th>\n",
              "      <td>1.105436e+06</td>\n",
              "      <td>9.000150e+08</td>\n",
              "      <td>2020-02-06 00:00:00</td>\n",
              "      <td>2619.500000</td>\n",
              "      <td>3.000000</td>\n",
              "      <td>45.000000</td>\n",
              "      <td>104.000000</td>\n",
              "    </tr>\n",
              "    <tr>\n",
              "      <th>75%</th>\n",
              "      <td>1.106718e+06</td>\n",
              "      <td>9.000171e+08</td>\n",
              "      <td>2020-08-03 00:00:00</td>\n",
              "      <td>3360.250000</td>\n",
              "      <td>4.000000</td>\n",
              "      <td>123.000000</td>\n",
              "      <td>342.000000</td>\n",
              "    </tr>\n",
              "    <tr>\n",
              "      <th>max</th>\n",
              "      <td>1.108000e+06</td>\n",
              "      <td>9.000200e+08</td>\n",
              "      <td>2021-01-31 00:00:00</td>\n",
              "      <td>4126.000000</td>\n",
              "      <td>14.000000</td>\n",
              "      <td>234.000000</td>\n",
              "      <td>3276.000000</td>\n",
              "    </tr>\n",
              "    <tr>\n",
              "      <th>std</th>\n",
              "      <td>1.481048e+03</td>\n",
              "      <td>2.925929e+03</td>\n",
              "      <td>NaN</td>\n",
              "      <td>886.843520</td>\n",
              "      <td>2.513631</td>\n",
              "      <td>84.837607</td>\n",
              "      <td>592.435009</td>\n",
              "    </tr>\n",
              "  </tbody>\n",
              "</table>\n",
              "</div>\n",
              "    <div class=\"colab-df-buttons\">\n",
              "\n",
              "  <div class=\"colab-df-container\">\n",
              "    <button class=\"colab-df-convert\" onclick=\"convertToInteractive('df-390c7970-7117-47b5-b83b-7cc1329ce026')\"\n",
              "            title=\"Convert this dataframe to an interactive table.\"\n",
              "            style=\"display:none;\">\n",
              "\n",
              "  <svg xmlns=\"http://www.w3.org/2000/svg\" height=\"24px\" viewBox=\"0 -960 960 960\">\n",
              "    <path d=\"M120-120v-720h720v720H120Zm60-500h600v-160H180v160Zm220 220h160v-160H400v160Zm0 220h160v-160H400v160ZM180-400h160v-160H180v160Zm440 0h160v-160H620v160ZM180-180h160v-160H180v160Zm440 0h160v-160H620v160Z\"/>\n",
              "  </svg>\n",
              "    </button>\n",
              "\n",
              "  <style>\n",
              "    .colab-df-container {\n",
              "      display:flex;\n",
              "      gap: 12px;\n",
              "    }\n",
              "\n",
              "    .colab-df-convert {\n",
              "      background-color: #E8F0FE;\n",
              "      border: none;\n",
              "      border-radius: 50%;\n",
              "      cursor: pointer;\n",
              "      display: none;\n",
              "      fill: #1967D2;\n",
              "      height: 32px;\n",
              "      padding: 0 0 0 0;\n",
              "      width: 32px;\n",
              "    }\n",
              "\n",
              "    .colab-df-convert:hover {\n",
              "      background-color: #E2EBFA;\n",
              "      box-shadow: 0px 1px 2px rgba(60, 64, 67, 0.3), 0px 1px 3px 1px rgba(60, 64, 67, 0.15);\n",
              "      fill: #174EA6;\n",
              "    }\n",
              "\n",
              "    .colab-df-buttons div {\n",
              "      margin-bottom: 4px;\n",
              "    }\n",
              "\n",
              "    [theme=dark] .colab-df-convert {\n",
              "      background-color: #3B4455;\n",
              "      fill: #D2E3FC;\n",
              "    }\n",
              "\n",
              "    [theme=dark] .colab-df-convert:hover {\n",
              "      background-color: #434B5C;\n",
              "      box-shadow: 0px 1px 3px 1px rgba(0, 0, 0, 0.15);\n",
              "      filter: drop-shadow(0px 1px 2px rgba(0, 0, 0, 0.3));\n",
              "      fill: #FFFFFF;\n",
              "    }\n",
              "  </style>\n",
              "\n",
              "    <script>\n",
              "      const buttonEl =\n",
              "        document.querySelector('#df-390c7970-7117-47b5-b83b-7cc1329ce026 button.colab-df-convert');\n",
              "      buttonEl.style.display =\n",
              "        google.colab.kernel.accessAllowed ? 'block' : 'none';\n",
              "\n",
              "      async function convertToInteractive(key) {\n",
              "        const element = document.querySelector('#df-390c7970-7117-47b5-b83b-7cc1329ce026');\n",
              "        const dataTable =\n",
              "          await google.colab.kernel.invokeFunction('convertToInteractive',\n",
              "                                                    [key], {});\n",
              "        if (!dataTable) return;\n",
              "\n",
              "        const docLinkHtml = 'Like what you see? Visit the ' +\n",
              "          '<a target=\"_blank\" href=https://colab.research.google.com/notebooks/data_table.ipynb>data table notebook</a>'\n",
              "          + ' to learn more about interactive tables.';\n",
              "        element.innerHTML = '';\n",
              "        dataTable['output_type'] = 'display_data';\n",
              "        await google.colab.output.renderOutput(dataTable, element);\n",
              "        const docLink = document.createElement('div');\n",
              "        docLink.innerHTML = docLinkHtml;\n",
              "        element.appendChild(docLink);\n",
              "      }\n",
              "    </script>\n",
              "  </div>\n",
              "\n",
              "\n",
              "    <div id=\"df-23cc68ce-f3d7-4894-98c8-b3c09ef993ab\">\n",
              "      <button class=\"colab-df-quickchart\" onclick=\"quickchart('df-23cc68ce-f3d7-4894-98c8-b3c09ef993ab')\"\n",
              "                title=\"Suggest charts\"\n",
              "                style=\"display:none;\">\n",
              "\n",
              "<svg xmlns=\"http://www.w3.org/2000/svg\" height=\"24px\"viewBox=\"0 0 24 24\"\n",
              "     width=\"24px\">\n",
              "    <g>\n",
              "        <path d=\"M19 3H5c-1.1 0-2 .9-2 2v14c0 1.1.9 2 2 2h14c1.1 0 2-.9 2-2V5c0-1.1-.9-2-2-2zM9 17H7v-7h2v7zm4 0h-2V7h2v10zm4 0h-2v-4h2v4z\"/>\n",
              "    </g>\n",
              "</svg>\n",
              "      </button>\n",
              "\n",
              "<style>\n",
              "  .colab-df-quickchart {\n",
              "      --bg-color: #E8F0FE;\n",
              "      --fill-color: #1967D2;\n",
              "      --hover-bg-color: #E2EBFA;\n",
              "      --hover-fill-color: #174EA6;\n",
              "      --disabled-fill-color: #AAA;\n",
              "      --disabled-bg-color: #DDD;\n",
              "  }\n",
              "\n",
              "  [theme=dark] .colab-df-quickchart {\n",
              "      --bg-color: #3B4455;\n",
              "      --fill-color: #D2E3FC;\n",
              "      --hover-bg-color: #434B5C;\n",
              "      --hover-fill-color: #FFFFFF;\n",
              "      --disabled-bg-color: #3B4455;\n",
              "      --disabled-fill-color: #666;\n",
              "  }\n",
              "\n",
              "  .colab-df-quickchart {\n",
              "    background-color: var(--bg-color);\n",
              "    border: none;\n",
              "    border-radius: 50%;\n",
              "    cursor: pointer;\n",
              "    display: none;\n",
              "    fill: var(--fill-color);\n",
              "    height: 32px;\n",
              "    padding: 0;\n",
              "    width: 32px;\n",
              "  }\n",
              "\n",
              "  .colab-df-quickchart:hover {\n",
              "    background-color: var(--hover-bg-color);\n",
              "    box-shadow: 0 1px 2px rgba(60, 64, 67, 0.3), 0 1px 3px 1px rgba(60, 64, 67, 0.15);\n",
              "    fill: var(--button-hover-fill-color);\n",
              "  }\n",
              "\n",
              "  .colab-df-quickchart-complete:disabled,\n",
              "  .colab-df-quickchart-complete:disabled:hover {\n",
              "    background-color: var(--disabled-bg-color);\n",
              "    fill: var(--disabled-fill-color);\n",
              "    box-shadow: none;\n",
              "  }\n",
              "\n",
              "  .colab-df-spinner {\n",
              "    border: 2px solid var(--fill-color);\n",
              "    border-color: transparent;\n",
              "    border-bottom-color: var(--fill-color);\n",
              "    animation:\n",
              "      spin 1s steps(1) infinite;\n",
              "  }\n",
              "\n",
              "  @keyframes spin {\n",
              "    0% {\n",
              "      border-color: transparent;\n",
              "      border-bottom-color: var(--fill-color);\n",
              "      border-left-color: var(--fill-color);\n",
              "    }\n",
              "    20% {\n",
              "      border-color: transparent;\n",
              "      border-left-color: var(--fill-color);\n",
              "      border-top-color: var(--fill-color);\n",
              "    }\n",
              "    30% {\n",
              "      border-color: transparent;\n",
              "      border-left-color: var(--fill-color);\n",
              "      border-top-color: var(--fill-color);\n",
              "      border-right-color: var(--fill-color);\n",
              "    }\n",
              "    40% {\n",
              "      border-color: transparent;\n",
              "      border-right-color: var(--fill-color);\n",
              "      border-top-color: var(--fill-color);\n",
              "    }\n",
              "    60% {\n",
              "      border-color: transparent;\n",
              "      border-right-color: var(--fill-color);\n",
              "    }\n",
              "    80% {\n",
              "      border-color: transparent;\n",
              "      border-right-color: var(--fill-color);\n",
              "      border-bottom-color: var(--fill-color);\n",
              "    }\n",
              "    90% {\n",
              "      border-color: transparent;\n",
              "      border-bottom-color: var(--fill-color);\n",
              "    }\n",
              "  }\n",
              "</style>\n",
              "\n",
              "      <script>\n",
              "        async function quickchart(key) {\n",
              "          const quickchartButtonEl =\n",
              "            document.querySelector('#' + key + ' button');\n",
              "          quickchartButtonEl.disabled = true;  // To prevent multiple clicks.\n",
              "          quickchartButtonEl.classList.add('colab-df-spinner');\n",
              "          try {\n",
              "            const charts = await google.colab.kernel.invokeFunction(\n",
              "                'suggestCharts', [key], {});\n",
              "          } catch (error) {\n",
              "            console.error('Error during call to suggestCharts:', error);\n",
              "          }\n",
              "          quickchartButtonEl.classList.remove('colab-df-spinner');\n",
              "          quickchartButtonEl.classList.add('colab-df-quickchart-complete');\n",
              "        }\n",
              "        (() => {\n",
              "          let quickchartButtonEl =\n",
              "            document.querySelector('#df-23cc68ce-f3d7-4894-98c8-b3c09ef993ab button');\n",
              "          quickchartButtonEl.style.display =\n",
              "            google.colab.kernel.accessAllowed ? 'block' : 'none';\n",
              "        })();\n",
              "      </script>\n",
              "    </div>\n",
              "\n",
              "    </div>\n",
              "  </div>\n"
            ],
            "application/vnd.google.colaboratory.intrinsic+json": {
              "type": "dataframe",
              "summary": "{\n  \"name\": \"df\",\n  \"rows\": 8,\n  \"fields\": [\n    {\n      \"column\": \"OrderNum\",\n      \"properties\": {\n        \"dtype\": \"number\",\n        \"std\": 510190.2761928314,\n        \"min\": 1481.0477710053785,\n        \"max\": 1108000.0,\n        \"num_unique_values\": 7,\n        \"samples\": [\n          5130.0,\n          1105435.5,\n          1108000.0\n        ],\n        \"semantic_type\": \"\",\n        \"description\": \"\"\n      }\n    },\n    {\n      \"column\": \"EmpID \",\n      \"properties\": {\n        \"dtype\": \"number\",\n        \"std\": 416624102.4647168,\n        \"min\": 2925.9289332180683,\n        \"max\": 900020001.0,\n        \"num_unique_values\": 8,\n        \"samples\": [\n          900014902.2153996,\n          900017067.0,\n          5130.0\n        ],\n        \"semantic_type\": \"\",\n        \"description\": \"\"\n      }\n    },\n    {\n      \"column\": \"OrderDate\",\n      \"properties\": {\n        \"dtype\": \"date\",\n        \"min\": \"1970-01-01 00:00:00.000005130\",\n        \"max\": \"2021-01-31 00:00:00\",\n        \"num_unique_values\": 7,\n        \"samples\": [\n          \"5130\",\n          \"2020-02-03 09:49:28.421052672\",\n          \"2020-08-03 00:00:00\"\n        ],\n        \"semantic_type\": \"\",\n        \"description\": \"\"\n      }\n    },\n    {\n      \"column\": \"CustID\",\n      \"properties\": {\n        \"dtype\": \"number\",\n        \"std\": 1467.7971988273366,\n        \"min\": 886.8435201211056,\n        \"max\": 5124.0,\n        \"num_unique_values\": 8,\n        \"samples\": [\n          2613.7763466042156,\n          3360.25,\n          5124.0\n        ],\n        \"semantic_type\": \"\",\n        \"description\": \"\"\n      }\n    },\n    {\n      \"column\": \"Quantity\",\n      \"properties\": {\n        \"dtype\": \"number\",\n        \"std\": 1812.231662623974,\n        \"min\": 1.0,\n        \"max\": 5130.0,\n        \"num_unique_values\": 8,\n        \"samples\": [\n          3.220857699805068,\n          4.0,\n          5130.0\n        ],\n        \"semantic_type\": \"\",\n        \"description\": \"\"\n      }\n    },\n    {\n      \"column\": \"Price\",\n      \"properties\": {\n        \"dtype\": \"number\",\n        \"std\": 1785.330668739576,\n        \"min\": 5.99,\n        \"max\": 5130.0,\n        \"num_unique_values\": 8,\n        \"samples\": [\n          83.81914619883041,\n          123.0,\n          5130.0\n        ],\n        \"semantic_type\": \"\",\n        \"description\": \"\"\n      }\n    },\n    {\n      \"column\": \"Order Total\",\n      \"properties\": {\n        \"dtype\": \"number\",\n        \"std\": 1912.0685636058158,\n        \"min\": 5.99,\n        \"max\": 5130.0,\n        \"num_unique_values\": 8,\n        \"samples\": [\n          333.0802729044834,\n          342.0,\n          5130.0\n        ],\n        \"semantic_type\": \"\",\n        \"description\": \"\"\n      }\n    }\n  ]\n}"
            }
          },
          "metadata": {},
          "execution_count": 15
        }
      ]
    },
    {
      "cell_type": "code",
      "source": [
        "#podemos listar las columnas y los índices del dataframe, por ejemplo\n",
        "print(df.columns)"
      ],
      "metadata": {
        "colab": {
          "base_uri": "https://localhost:8080/"
        },
        "id": "eL-tn2SbbZYF",
        "outputId": "ca10051a-b914-4c5d-e1cc-95d8d56f5b5b"
      },
      "execution_count": 16,
      "outputs": [
        {
          "output_type": "stream",
          "name": "stdout",
          "text": [
            "Index(['OrderNum', 'EmpID ', 'Employee Name', 'Employee Job Title',\n",
            "       'Sales Region', 'OrderDate', 'OrderType', 'CustomerType', 'CustID',\n",
            "       'CustName', 'CustState', 'ProdCategory', 'ProdNumber', 'ProdName',\n",
            "       'Quantity', 'Price', 'Order Total', 'Column1'],\n",
            "      dtype='object')\n"
          ]
        }
      ]
    },
    {
      "cell_type": "code",
      "source": [
        "print(df.index)"
      ],
      "metadata": {
        "id": "23OfgdikeV-0",
        "colab": {
          "base_uri": "https://localhost:8080/"
        },
        "outputId": "46368243-9377-478a-a0ea-d8daedb27f2f"
      },
      "execution_count": 17,
      "outputs": [
        {
          "output_type": "stream",
          "name": "stdout",
          "text": [
            "RangeIndex(start=0, stop=5130, step=1)\n"
          ]
        }
      ]
    },
    {
      "cell_type": "markdown",
      "source": [
        "#Limpieza de datos"
      ],
      "metadata": {
        "id": "DDRmkZ3Qt5JR"
      }
    },
    {
      "cell_type": "code",
      "source": [
        "#método para detectar NaN en un dataframe\n",
        "df.isnull().sum()"
      ],
      "metadata": {
        "colab": {
          "base_uri": "https://localhost:8080/",
          "height": 648
        },
        "id": "B38miGsKtiTL",
        "outputId": "5034c5dc-fb09-4cae-e423-e8d8eeee3d6f"
      },
      "execution_count": 18,
      "outputs": [
        {
          "output_type": "execute_result",
          "data": {
            "text/plain": [
              "OrderNum              0\n",
              "EmpID                 0\n",
              "Employee Name         0\n",
              "Employee Job Title    0\n",
              "Sales Region          0\n",
              "OrderDate             0\n",
              "OrderType             0\n",
              "CustomerType          0\n",
              "CustID                6\n",
              "CustName              0\n",
              "CustState             0\n",
              "ProdCategory          0\n",
              "ProdNumber            0\n",
              "ProdName              0\n",
              "Quantity              0\n",
              "Price                 0\n",
              "Order Total           0\n",
              "Column1               0\n",
              "dtype: int64"
            ],
            "text/html": [
              "<div>\n",
              "<style scoped>\n",
              "    .dataframe tbody tr th:only-of-type {\n",
              "        vertical-align: middle;\n",
              "    }\n",
              "\n",
              "    .dataframe tbody tr th {\n",
              "        vertical-align: top;\n",
              "    }\n",
              "\n",
              "    .dataframe thead th {\n",
              "        text-align: right;\n",
              "    }\n",
              "</style>\n",
              "<table border=\"1\" class=\"dataframe\">\n",
              "  <thead>\n",
              "    <tr style=\"text-align: right;\">\n",
              "      <th></th>\n",
              "      <th>0</th>\n",
              "    </tr>\n",
              "  </thead>\n",
              "  <tbody>\n",
              "    <tr>\n",
              "      <th>OrderNum</th>\n",
              "      <td>0</td>\n",
              "    </tr>\n",
              "    <tr>\n",
              "      <th>EmpID</th>\n",
              "      <td>0</td>\n",
              "    </tr>\n",
              "    <tr>\n",
              "      <th>Employee Name</th>\n",
              "      <td>0</td>\n",
              "    </tr>\n",
              "    <tr>\n",
              "      <th>Employee Job Title</th>\n",
              "      <td>0</td>\n",
              "    </tr>\n",
              "    <tr>\n",
              "      <th>Sales Region</th>\n",
              "      <td>0</td>\n",
              "    </tr>\n",
              "    <tr>\n",
              "      <th>OrderDate</th>\n",
              "      <td>0</td>\n",
              "    </tr>\n",
              "    <tr>\n",
              "      <th>OrderType</th>\n",
              "      <td>0</td>\n",
              "    </tr>\n",
              "    <tr>\n",
              "      <th>CustomerType</th>\n",
              "      <td>0</td>\n",
              "    </tr>\n",
              "    <tr>\n",
              "      <th>CustID</th>\n",
              "      <td>6</td>\n",
              "    </tr>\n",
              "    <tr>\n",
              "      <th>CustName</th>\n",
              "      <td>0</td>\n",
              "    </tr>\n",
              "    <tr>\n",
              "      <th>CustState</th>\n",
              "      <td>0</td>\n",
              "    </tr>\n",
              "    <tr>\n",
              "      <th>ProdCategory</th>\n",
              "      <td>0</td>\n",
              "    </tr>\n",
              "    <tr>\n",
              "      <th>ProdNumber</th>\n",
              "      <td>0</td>\n",
              "    </tr>\n",
              "    <tr>\n",
              "      <th>ProdName</th>\n",
              "      <td>0</td>\n",
              "    </tr>\n",
              "    <tr>\n",
              "      <th>Quantity</th>\n",
              "      <td>0</td>\n",
              "    </tr>\n",
              "    <tr>\n",
              "      <th>Price</th>\n",
              "      <td>0</td>\n",
              "    </tr>\n",
              "    <tr>\n",
              "      <th>Order Total</th>\n",
              "      <td>0</td>\n",
              "    </tr>\n",
              "    <tr>\n",
              "      <th>Column1</th>\n",
              "      <td>0</td>\n",
              "    </tr>\n",
              "  </tbody>\n",
              "</table>\n",
              "</div><br><label><b>dtype:</b> int64</label>"
            ]
          },
          "metadata": {},
          "execution_count": 18
        }
      ]
    },
    {
      "cell_type": "markdown",
      "source": [
        "#Agrupamiento y graficación"
      ],
      "metadata": {
        "id": "iSAwijBEwQx6"
      }
    },
    {
      "cell_type": "code",
      "source": [
        "#los diez productos más vendidos mostrados en gráfica de barras\n",
        "df_quantity = df.groupby('ProdName')['Quantity'].sum().sort_values(ascending=False).head(10)\n",
        "print(df_quantity)"
      ],
      "metadata": {
        "colab": {
          "base_uri": "https://localhost:8080/"
        },
        "id": "8JAcotozt7fb",
        "outputId": "e9564250-8c9a-4215-f877-65e54379a127"
      },
      "execution_count": 19,
      "outputs": [
        {
          "output_type": "stream",
          "name": "stdout",
          "text": [
            "ProdName\n",
            "Extra Virgin Olive Oil - Bold 12pk        711\n",
            "Chili Extra Virgin Olive Oil 12pk         686\n",
            "Basil Extra Virgin Olive Oil 12pk         675\n",
            "Extra Virgin Olive Oil - Delicate 12pk    642\n",
            "Rosemary Extra Virgin Olive Oil 12pk      634\n",
            "Lemon Extra Virgin Olive Oil 12pk         621\n",
            "Extra Virgin Olive Oil - Trio 12pk        620\n",
            "Garlic Extra Virgin Olive Oil 12pk        617\n",
            "Scented Olive Oil Lotion Gift Basket      258\n",
            "Vanilla and Olive Bath Salts              239\n",
            "Name: Quantity, dtype: int64\n"
          ]
        }
      ]
    },
    {
      "cell_type": "code",
      "source": [
        "df_quantity.plot(kind='bar', color='magenta')"
      ],
      "metadata": {
        "colab": {
          "base_uri": "https://localhost:8080/",
          "height": 709
        },
        "id": "HK_36iSAyPit",
        "outputId": "bc161504-5c78-4aad-faf6-c23d4be98eed"
      },
      "execution_count": 20,
      "outputs": [
        {
          "output_type": "execute_result",
          "data": {
            "text/plain": [
              "<Axes: xlabel='ProdName'>"
            ]
          },
          "metadata": {},
          "execution_count": 20
        },
        {
          "output_type": "display_data",
          "data": {
            "text/plain": [
              "<Figure size 640x480 with 1 Axes>"
            ],
            "image/png": "[encoded data removed]"
          },
          "metadata": {}
        }
      ]
    },
    {
      "cell_type": "code",
      "source": [
        "df_olive_oil = df[df['ProdName'] == 'Extra Virgin Olive Oil - Bold 12pk']['Quantity']\n",
        "print(df_olive_oil)"
      ],
      "metadata": {
        "colab": {
          "base_uri": "https://localhost:8080/"
        },
        "id": "TQaDwJC9y91k",
        "outputId": "21b09526-d46c-42b5-f3fc-ce6eb9ba83c7"
      },
      "execution_count": 21,
      "outputs": [
        {
          "output_type": "stream",
          "name": "stdout",
          "text": [
            "18      11\n",
            "27      11\n",
            "135      4\n",
            "199     13\n",
            "201      2\n",
            "        ..\n",
            "4974     3\n",
            "5033     2\n",
            "5043    14\n",
            "5067     9\n",
            "5092     3\n",
            "Name: Quantity, Length: 130, dtype: int64\n"
          ]
        }
      ]
    },
    {
      "cell_type": "code",
      "source": [
        "df_olive_oil.plot(kind='box',patch_artist=True)"
      ],
      "metadata": {
        "colab": {
          "base_uri": "https://localhost:8080/",
          "height": 447
        },
        "id": "PE62FHZL0Wif",
        "outputId": "0b392983-2193-42ed-954f-d33d88139ac3"
      },
      "execution_count": 22,
      "outputs": [
        {
          "output_type": "execute_result",
          "data": {
            "text/plain": [
              "<Axes: >"
            ]
          },
          "metadata": {},
          "execution_count": 22
        },
        {
          "output_type": "display_data",
          "data": {
            "text/plain": [
              "<Figure size 640x480 with 1 Axes>"
            ],
            "image/png": "[encoded data removed]"
          },
          "metadata": {}
        }
      ]
    },
    {
      "cell_type": "markdown",
      "source": [
        "\n",
        "\n",
        "---\n",
        "#Actividad 3 - Graficación\n"
      ],
      "metadata": {
        "id": "Z5GPZ0kXhID4"
      }
    },
    {
      "cell_type": "markdown",
      "source": [
        "1. Crea una gráfica de barras con los 5 productos menos vendidos."
      ],
      "metadata": {
        "id": "Jo4OT1zChf7s"
      }
    },
    {
      "cell_type": "code",
      "source": [
        "df_least = df.groupby('ProdName')['Quantity'].sum().sort_values(ascending=True).head(5)\n",
        "df_least.plot(kind='bar', color='magenta')"
      ],
      "metadata": {
        "colab": {
          "base_uri": "https://localhost:8080/",
          "height": 710
        },
        "id": "szR27QvNhUTq",
        "outputId": "08349b45-ef73-4407-e7ea-94d5639ee431"
      },
      "execution_count": 24,
      "outputs": [
        {
          "output_type": "execute_result",
          "data": {
            "text/plain": [
              "<Axes: xlabel='ProdName'>"
            ]
          },
          "metadata": {},
          "execution_count": 24
        },
        {
          "output_type": "display_data",
          "data": {
            "text/plain": [
              "<Figure size 640x480 with 1 Axes>"
            ],
            "image/png": "[encoded data removed]"
          },
          "metadata": {}
        }
      ]
    },
    {
      "cell_type": "markdown",
      "source": [
        "2. Crea una gráfica de caja para la columna de Quantity del producto con nombre Scented Olive Oil Lotion Gift Basket."
      ],
      "metadata": {
        "id": "iPWWB6jEiCcU"
      }
    },
    {
      "cell_type": "code",
      "source": [
        "df_scented=df[df['ProdName']=='Scented Olive Oil Lotion Gift Basket']['Quantity']\n",
        "df_scented.plot(kind='box',patch_artist=True)"
      ],
      "metadata": {
        "colab": {
          "base_uri": "https://localhost:8080/",
          "height": 447
        },
        "id": "km4zVvOYiDfy",
        "outputId": "fe4ad26a-ba8d-49da-fddb-d432fbeab731"
      },
      "execution_count": 25,
      "outputs": [
        {
          "output_type": "execute_result",
          "data": {
            "text/plain": [
              "<Axes: >"
            ]
          },
          "metadata": {},
          "execution_count": 25
        },
        {
          "output_type": "display_data",
          "data": {
            "text/plain": [
              "<Figure size 640x480 with 1 Axes>"
            ],
            "image/png": "[encoded data removed]"
          },
          "metadata": {}
        }
      ]
    },
    {
      "cell_type": "markdown",
      "source": [
        "3. Crea una gráfica de línea con la función plot que muestre la cantidad de productos vendidos (columna Quantity) de la categoría de productos denominada Bath Products."
      ],
      "metadata": {
        "id": "5wu7Q7dfiXW_"
      }
    },
    {
      "cell_type": "code",
      "source": [
        "df['ProdCategory'].unique()"
      ],
      "metadata": {
        "colab": {
          "base_uri": "https://localhost:8080/"
        },
        "id": "vxMZVTykjDRB",
        "outputId": "b91e07a0-764e-4e4a-c805-8df47e229f65"
      },
      "execution_count": 31,
      "outputs": [
        {
          "output_type": "execute_result",
          "data": {
            "text/plain": [
              "array(['Olive Oil', 'Gift Basket', 'Bath products'], dtype=object)"
            ]
          },
          "metadata": {},
          "execution_count": 31
        }
      ]
    },
    {
      "cell_type": "code",
      "source": [
        "df_bath = df[df['ProdCategory']=='Bath products']\n",
        "bath_vendidos = df_bath.groupby('ProdName')['Quantity'].sum()\n",
        "bath_vendidos.plot(kind='line',color='magenta',marker='o')"
      ],
      "metadata": {
        "colab": {
          "base_uri": "https://localhost:8080/",
          "height": 466
        },
        "id": "zKLhFOwKisRz",
        "outputId": "c7ec477d-d747-43e8-f756-fc0c9adad46d"
      },
      "execution_count": 44,
      "outputs": [
        {
          "output_type": "execute_result",
          "data": {
            "text/plain": [
              "<Axes: xlabel='ProdName'>"
            ]
          },
          "metadata": {},
          "execution_count": 44
        },
        {
          "output_type": "display_data",
          "data": {
            "text/plain": [
              "<Figure size 640x480 with 1 Axes>"
            ],
            "image/png": "[encoded data removed]"
          },
          "metadata": {}
        }
      ]
    }
  ]
}